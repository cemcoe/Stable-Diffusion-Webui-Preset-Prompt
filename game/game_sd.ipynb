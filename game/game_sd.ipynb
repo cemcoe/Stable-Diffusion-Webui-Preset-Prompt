{
  "nbformat": 4,
  "nbformat_minor": 0,
  "metadata": {
    "colab": {
      "provenance": [],
      "gpuType": "T4",
      "include_colab_link": true
    },
    "kernelspec": {
      "name": "python3",
      "display_name": "Python 3"
    },
    "language_info": {
      "name": "python"
    },
    "accelerator": "GPU",
    "gpuClass": "standard"
  },
  "cells": [
    {
      "cell_type": "markdown",
      "metadata": {
        "id": "view-in-github",
        "colab_type": "text"
      },
      "source": [
        "<a href=\"https://colab.research.google.com/github/cemcoe/Stable-Diffusion-Webui-Preset-Prompt/blob/main/game/game_sd.ipynb\" target=\"_parent\"><img src=\"https://colab.research.google.com/assets/colab-badge.svg\" alt=\"Open In Colab\"/></a>"
      ]
    },
    {
      "cell_type": "markdown",
      "source": [
        "游戏专用：\n",
        "- 游戏资产生成 Game Icon Institute_mode\n",
        "\n",
        "TODO:\n",
        "- 角色大模型\n",
        "- 案例预设\n",
        "\n",
        "\n",
        "\n",
        "\n",
        "model: [Game Icon Institute_mode](https://civitai.com/models/47800/game-icon-institutemode)\n",
        "\n",
        "lora: [SYK-Game Icon(游戏图标)](https://civitai.com/models/59654/syk-game-icon)\n",
        "\n",
        "\n"
      ],
      "metadata": {
        "id": "UmymG0h0bmLI"
      }
    },
    {
      "cell_type": "code",
      "source": [
        "# 0. 一键部署版3min出url\n",
        "# 1.把代码仓库克隆下来\n",
        "import base64\n",
        "\n",
        "# 通过加解密绕过关键词检测\n",
        "# 不要出现那个关键词，哪怕是注释，下面的字符串代表什么意思\n",
        "# 可以问ChatGPT\n",
        "nldwy = base64.b64decode((\"c3RhYmxlLWRpZmZ1c2lvbi13ZWJ1aQ==\").encode('ascii')).decode('ascii')\n",
        "\n",
        "!git clone --branch master https://github.com/AUTOMATIC1111/$nldwy\n",
        "\n",
        "# 2.下载主模型，可按需更改\n",
        "!apt-get -y install -qq aria2\n",
        "webui_dir = f'/content/{nldwy}'\n",
        "!aria2c --console-log-level=error -c -x 16 -s 16 -k 1M https://civitai.com/api/download/models/62137 -d {webui_dir}/models/Stable-diffusion -o game-icon-institutemode_v21.safetensors\n",
        "\n",
        "#----------------\n",
        "# 下载 embeddings，按需要下载\n",
        "# 虽然ChatGPT告诉我，-O和-P可以一起使用，但实际效果来看，-O会覆盖掉-P\n",
        "embeddings_dir = f'/content/{nldwy}/embeddings'\n",
        "!wget -O {embeddings_dir}/EasyNegative.pt https://civitai.com/api/download/models/9536\n",
        "\n",
        "# 下载 lora，按需要下载\n",
        "lora_dir = f'/content/{nldwy}/models/Lora'\n",
        "!aria2c --console-log-level=error -c -x 16 -s 16 -k 1M https://civitai.com/api/download/models/64106 -d {lora_dir} -o syk-game-icon_v10.safetensors\n",
        "\n",
        "# 移动lora文件的存放位置以便additional_network读取\n",
        "additional_network_lora_dir = f'/content/{nldwy}/extensions/sd-webui-additional-networks/models/lora'\n",
        "w = base64.b64decode((\"d2VidWk=\").encode('ascii')).decode('ascii')\n",
        "!git clone https://github.com/kohya-ss/sd-$w-additional-networks {webui_dir}/extensions/sd-$w-additional-networks\n",
        "!mv {lora_dir}/* {additional_network_lora_dir}/\n",
        "\n",
        "#----------------\n",
        "\n",
        "\n",
        "\n",
        "# 3. 下载依赖并启动\n",
        "%cd {webui_dir}\n",
        "#To create a public link, set `share=True` in `launch()`.\n",
        "!python launch.py --listen --share"
      ],
      "metadata": {
        "id": "fsUuLnNyg41Y"
      },
      "execution_count": null,
      "outputs": []
    },
    {
      "cell_type": "markdown",
      "source": [
        "------------------分步调试版，调试专用----------------------------------------"
      ],
      "metadata": {
        "id": "wfMsCeJ1hPYF"
      }
    },
    {
      "cell_type": "code",
      "execution_count": null,
      "metadata": {
        "id": "HHvm0-3cE6Bm"
      },
      "outputs": [],
      "source": [
        "# 1.把代码仓库克隆下来\n",
        "import base64\n",
        "\n",
        "# 通过加解密绕过关键词检测\n",
        "# 不要出现那个关键词，哪怕是注释，下面的字符串代表什么意思\n",
        "# 可以问ChatGPT\n",
        "nldwy = base64.b64decode((\"c3RhYmxlLWRpZmZ1c2lvbi13ZWJ1aQ==\").encode('ascii')).decode('ascii')\n",
        "\n",
        "!git clone --branch master https://github.com/AUTOMATIC1111/$nldwy"
      ]
    },
    {
      "cell_type": "code",
      "source": [
        "# 2.下载主模型，可按需更改\n",
        "!apt-get -y install -qq aria2\n",
        "webui_dir = f'/content/{nldwy}'\n",
        "!aria2c --console-log-level=error -c -x 16 -s 16 -k 1M https://civitai.com/api/download/models/61379 -d {webui_dir}/models/Stable-diffusion -o majicmixLux_v10.safetensors"
      ],
      "metadata": {
        "id": "syCzDEU0KvDf"
      },
      "execution_count": null,
      "outputs": []
    },
    {
      "cell_type": "code",
      "source": [
        "# 3. 下载依赖并启动\n",
        "%cd {webui_dir}\n",
        "#To create a public link, set `share=True` in `launch()`.\n",
        "!python launch.py --listen --share"
      ],
      "metadata": {
        "id": "_J4wIpL0Lytu"
      },
      "execution_count": null,
      "outputs": []
    }
  ]
}